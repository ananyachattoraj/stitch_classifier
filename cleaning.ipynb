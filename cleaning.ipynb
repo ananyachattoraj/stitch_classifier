{
 "cells": [
  {
   "cell_type": "code",
   "execution_count": 38,
   "metadata": {},
   "outputs": [],
   "source": [
    "import pandas as pd\n",
    "import numpy as np\n",
    "import os\n",
    "import shutil\n",
    "import matplotlib.pyplot as plt"
   ]
  },
  {
   "cell_type": "code",
   "execution_count": 39,
   "metadata": {},
   "outputs": [
    {
     "data": {
      "text/html": [
       "<div>\n",
       "<style scoped>\n",
       "    .dataframe tbody tr th:only-of-type {\n",
       "        vertical-align: middle;\n",
       "    }\n",
       "\n",
       "    .dataframe tbody tr th {\n",
       "        vertical-align: top;\n",
       "    }\n",
       "\n",
       "    .dataframe thead th {\n",
       "        text-align: right;\n",
       "    }\n",
       "</style>\n",
       "<table border=\"1\" class=\"dataframe\">\n",
       "  <thead>\n",
       "    <tr style=\"text-align: right;\">\n",
       "      <th></th>\n",
       "      <th>Image Name</th>\n",
       "      <th>Page Title</th>\n",
       "    </tr>\n",
       "  </thead>\n",
       "  <tbody>\n",
       "    <tr>\n",
       "      <th>0</th>\n",
       "      <td>basketweavest.jpg</td>\n",
       "      <td>Knitting Stitch Patterns-Basketweave Stitch</td>\n",
       "    </tr>\n",
       "    <tr>\n",
       "      <th>1</th>\n",
       "      <td>bw2front.jpg</td>\n",
       "      <td>Knitting Stitch Patterns-Basketweave Stitch II</td>\n",
       "    </tr>\n",
       "    <tr>\n",
       "      <th>2</th>\n",
       "      <td>bw2back.jpg</td>\n",
       "      <td>Knitting Stitch Patterns-Basketweave Stitch II</td>\n",
       "    </tr>\n",
       "    <tr>\n",
       "      <th>3</th>\n",
       "      <td>doublemossst.jpg</td>\n",
       "      <td>Knitting Stitch Patterns-Box Stitch</td>\n",
       "    </tr>\n",
       "    <tr>\n",
       "      <th>4</th>\n",
       "      <td>brokenribws.jpg</td>\n",
       "      <td>Knitting Stitch Patterns-Broken Rib</td>\n",
       "    </tr>\n",
       "  </tbody>\n",
       "</table>\n",
       "</div>"
      ],
      "text/plain": [
       "          Image Name                                      Page Title\n",
       "0  basketweavest.jpg     Knitting Stitch Patterns-Basketweave Stitch\n",
       "1       bw2front.jpg  Knitting Stitch Patterns-Basketweave Stitch II\n",
       "2        bw2back.jpg  Knitting Stitch Patterns-Basketweave Stitch II\n",
       "3   doublemossst.jpg             Knitting Stitch Patterns-Box Stitch\n",
       "4    brokenribws.jpg             Knitting Stitch Patterns-Broken Rib"
      ]
     },
     "execution_count": 39,
     "metadata": {},
     "output_type": "execute_result"
    }
   ],
   "source": [
    "df = pd.read_csv('image_data.csv')\n",
    "df.head()"
   ]
  },
  {
   "cell_type": "code",
   "execution_count": 40,
   "metadata": {},
   "outputs": [],
   "source": [
    "imgfolder = 'E:/Documents/knit_stitch_identifier/images/'"
   ]
  },
  {
   "cell_type": "code",
   "execution_count": 41,
   "metadata": {},
   "outputs": [
    {
     "data": {
      "text/html": [
       "<div>\n",
       "<style scoped>\n",
       "    .dataframe tbody tr th:only-of-type {\n",
       "        vertical-align: middle;\n",
       "    }\n",
       "\n",
       "    .dataframe tbody tr th {\n",
       "        vertical-align: top;\n",
       "    }\n",
       "\n",
       "    .dataframe thead th {\n",
       "        text-align: right;\n",
       "    }\n",
       "</style>\n",
       "<table border=\"1\" class=\"dataframe\">\n",
       "  <thead>\n",
       "    <tr style=\"text-align: right;\">\n",
       "      <th></th>\n",
       "      <th>Image Name</th>\n",
       "      <th>Category</th>\n",
       "    </tr>\n",
       "  </thead>\n",
       "  <tbody>\n",
       "    <tr>\n",
       "      <th>0</th>\n",
       "      <td>basketweavest.jpg</td>\n",
       "      <td>Knitting Stitch Patterns-Basketweave Stitch</td>\n",
       "    </tr>\n",
       "    <tr>\n",
       "      <th>1</th>\n",
       "      <td>bw2front.jpg</td>\n",
       "      <td>Knitting Stitch Patterns-Basketweave Stitch II</td>\n",
       "    </tr>\n",
       "    <tr>\n",
       "      <th>2</th>\n",
       "      <td>bw2back.jpg</td>\n",
       "      <td>Knitting Stitch Patterns-Basketweave Stitch II</td>\n",
       "    </tr>\n",
       "    <tr>\n",
       "      <th>3</th>\n",
       "      <td>doublemossst.jpg</td>\n",
       "      <td>Knitting Stitch Patterns-Box Stitch</td>\n",
       "    </tr>\n",
       "    <tr>\n",
       "      <th>4</th>\n",
       "      <td>brokenribws.jpg</td>\n",
       "      <td>Knitting Stitch Patterns-Broken Rib</td>\n",
       "    </tr>\n",
       "  </tbody>\n",
       "</table>\n",
       "</div>"
      ],
      "text/plain": [
       "          Image Name                                        Category\n",
       "0  basketweavest.jpg     Knitting Stitch Patterns-Basketweave Stitch\n",
       "1       bw2front.jpg  Knitting Stitch Patterns-Basketweave Stitch II\n",
       "2        bw2back.jpg  Knitting Stitch Patterns-Basketweave Stitch II\n",
       "3   doublemossst.jpg             Knitting Stitch Patterns-Box Stitch\n",
       "4    brokenribws.jpg             Knitting Stitch Patterns-Broken Rib"
      ]
     },
     "execution_count": 41,
     "metadata": {},
     "output_type": "execute_result"
    }
   ],
   "source": [
    "df = df.rename(columns={'Page Title': 'Category'})\n",
    "df.head()"
   ]
  },
  {
   "cell_type": "code",
   "execution_count": 42,
   "metadata": {},
   "outputs": [
    {
     "data": {
      "text/html": [
       "<div>\n",
       "<style scoped>\n",
       "    .dataframe tbody tr th:only-of-type {\n",
       "        vertical-align: middle;\n",
       "    }\n",
       "\n",
       "    .dataframe tbody tr th {\n",
       "        vertical-align: top;\n",
       "    }\n",
       "\n",
       "    .dataframe thead th {\n",
       "        text-align: right;\n",
       "    }\n",
       "</style>\n",
       "<table border=\"1\" class=\"dataframe\">\n",
       "  <thead>\n",
       "    <tr style=\"text-align: right;\">\n",
       "      <th></th>\n",
       "      <th>Image Name</th>\n",
       "      <th>Category</th>\n",
       "    </tr>\n",
       "  </thead>\n",
       "  <tbody>\n",
       "    <tr>\n",
       "      <th>0</th>\n",
       "      <td>basketweavest.jpg</td>\n",
       "      <td>Basketweave Stitch</td>\n",
       "    </tr>\n",
       "    <tr>\n",
       "      <th>1</th>\n",
       "      <td>bw2front.jpg</td>\n",
       "      <td>Basketweave Stitch II</td>\n",
       "    </tr>\n",
       "    <tr>\n",
       "      <th>2</th>\n",
       "      <td>bw2back.jpg</td>\n",
       "      <td>Basketweave Stitch II</td>\n",
       "    </tr>\n",
       "    <tr>\n",
       "      <th>3</th>\n",
       "      <td>doublemossst.jpg</td>\n",
       "      <td>Box Stitch</td>\n",
       "    </tr>\n",
       "    <tr>\n",
       "      <th>4</th>\n",
       "      <td>brokenribws.jpg</td>\n",
       "      <td>Broken Rib</td>\n",
       "    </tr>\n",
       "  </tbody>\n",
       "</table>\n",
       "</div>"
      ],
      "text/plain": [
       "          Image Name               Category\n",
       "0  basketweavest.jpg     Basketweave Stitch\n",
       "1       bw2front.jpg  Basketweave Stitch II\n",
       "2        bw2back.jpg  Basketweave Stitch II\n",
       "3   doublemossst.jpg             Box Stitch\n",
       "4    brokenribws.jpg             Broken Rib"
      ]
     },
     "execution_count": 42,
     "metadata": {},
     "output_type": "execute_result"
    }
   ],
   "source": [
    "df['Category'] = df['Category'].str.replace('Knitting Stitch Patterns-', '', regex=False)\n",
    "df.head()"
   ]
  },
  {
   "cell_type": "code",
   "execution_count": 43,
   "metadata": {},
   "outputs": [
    {
     "data": {
      "text/html": [
       "<div>\n",
       "<style scoped>\n",
       "    .dataframe tbody tr th:only-of-type {\n",
       "        vertical-align: middle;\n",
       "    }\n",
       "\n",
       "    .dataframe tbody tr th {\n",
       "        vertical-align: top;\n",
       "    }\n",
       "\n",
       "    .dataframe thead th {\n",
       "        text-align: right;\n",
       "    }\n",
       "</style>\n",
       "<table border=\"1\" class=\"dataframe\">\n",
       "  <thead>\n",
       "    <tr style=\"text-align: right;\">\n",
       "      <th></th>\n",
       "      <th>Image Name</th>\n",
       "      <th>Category</th>\n",
       "    </tr>\n",
       "  </thead>\n",
       "  <tbody>\n",
       "    <tr>\n",
       "      <th>count</th>\n",
       "      <td>221</td>\n",
       "      <td>221</td>\n",
       "    </tr>\n",
       "    <tr>\n",
       "      <th>unique</th>\n",
       "      <td>155</td>\n",
       "      <td>137</td>\n",
       "    </tr>\n",
       "    <tr>\n",
       "      <th>top</th>\n",
       "      <td>piquetrirs.jpg</td>\n",
       "      <td>Plain Diamonds</td>\n",
       "    </tr>\n",
       "    <tr>\n",
       "      <th>freq</th>\n",
       "      <td>4</td>\n",
       "      <td>4</td>\n",
       "    </tr>\n",
       "  </tbody>\n",
       "</table>\n",
       "</div>"
      ],
      "text/plain": [
       "            Image Name        Category\n",
       "count              221             221\n",
       "unique             155             137\n",
       "top     piquetrirs.jpg  Plain Diamonds\n",
       "freq                 4               4"
      ]
     },
     "execution_count": 43,
     "metadata": {},
     "output_type": "execute_result"
    }
   ],
   "source": [
    "df.describe()"
   ]
  },
  {
   "cell_type": "code",
   "execution_count": 44,
   "metadata": {},
   "outputs": [],
   "source": [
    "df['Category'] = df['Category'].str.replace('Knitting Stitch Patterns - ', '', regex=False)"
   ]
  },
  {
   "cell_type": "code",
   "execution_count": 22,
   "metadata": {},
   "outputs": [],
   "source": [
    "df['Category'] = df['Category'].str.strip()"
   ]
  },
  {
   "cell_type": "code",
   "execution_count": 45,
   "metadata": {},
   "outputs": [
    {
     "data": {
      "text/html": [
       "<div>\n",
       "<style scoped>\n",
       "    .dataframe tbody tr th:only-of-type {\n",
       "        vertical-align: middle;\n",
       "    }\n",
       "\n",
       "    .dataframe tbody tr th {\n",
       "        vertical-align: top;\n",
       "    }\n",
       "\n",
       "    .dataframe thead th {\n",
       "        text-align: right;\n",
       "    }\n",
       "</style>\n",
       "<table border=\"1\" class=\"dataframe\">\n",
       "  <thead>\n",
       "    <tr style=\"text-align: right;\">\n",
       "      <th></th>\n",
       "      <th>Image Name</th>\n",
       "      <th>Category</th>\n",
       "    </tr>\n",
       "  </thead>\n",
       "  <tbody>\n",
       "    <tr>\n",
       "      <th>0</th>\n",
       "      <td>basketweavest.jpg</td>\n",
       "      <td>Basketweave_Stitch</td>\n",
       "    </tr>\n",
       "    <tr>\n",
       "      <th>1</th>\n",
       "      <td>bw2front.jpg</td>\n",
       "      <td>Basketweave_Stitch_II</td>\n",
       "    </tr>\n",
       "    <tr>\n",
       "      <th>2</th>\n",
       "      <td>bw2back.jpg</td>\n",
       "      <td>Basketweave_Stitch_II</td>\n",
       "    </tr>\n",
       "    <tr>\n",
       "      <th>3</th>\n",
       "      <td>doublemossst.jpg</td>\n",
       "      <td>Box_Stitch</td>\n",
       "    </tr>\n",
       "    <tr>\n",
       "      <th>4</th>\n",
       "      <td>brokenribws.jpg</td>\n",
       "      <td>Broken_Rib</td>\n",
       "    </tr>\n",
       "  </tbody>\n",
       "</table>\n",
       "</div>"
      ],
      "text/plain": [
       "          Image Name               Category\n",
       "0  basketweavest.jpg     Basketweave_Stitch\n",
       "1       bw2front.jpg  Basketweave_Stitch_II\n",
       "2        bw2back.jpg  Basketweave_Stitch_II\n",
       "3   doublemossst.jpg             Box_Stitch\n",
       "4    brokenribws.jpg             Broken_Rib"
      ]
     },
     "execution_count": 45,
     "metadata": {},
     "output_type": "execute_result"
    }
   ],
   "source": [
    "df['Category'] = df['Category'].str.replace(' ', '_', regex=False)\n",
    "df.head()"
   ]
  },
  {
   "cell_type": "code",
   "execution_count": 46,
   "metadata": {},
   "outputs": [],
   "source": [
    "categories = df['Category'].unique()\n",
    "\n",
    "for category in categories:\n",
    "    category = os.path.join(imgfolder + category)\n",
    "    os.makedirs(category, exist_ok=True)"
   ]
  },
  {
   "cell_type": "code",
   "execution_count": 53,
   "metadata": {},
   "outputs": [
    {
     "name": "stdout",
     "output_type": "stream",
     "text": [
      "errror\n",
      "errror\n",
      "errror\n",
      "errror\n",
      "errror\n",
      "errror\n",
      "errror\n",
      "errror\n",
      "errror\n",
      "errror\n",
      "errror\n",
      "errror\n",
      "errror\n",
      "errror\n",
      "errror\n",
      "errror\n",
      "errror\n",
      "errror\n",
      "errror\n",
      "errror\n",
      "errror\n",
      "errror\n",
      "errror\n",
      "errror\n",
      "errror\n",
      "errror\n",
      "errror\n",
      "errror\n",
      "errror\n",
      "errror\n",
      "errror\n",
      "errror\n",
      "errror\n",
      "errror\n",
      "errror\n",
      "errror\n",
      "errror\n",
      "errror\n",
      "errror\n",
      "errror\n",
      "errror\n",
      "errror\n",
      "errror\n",
      "errror\n",
      "errror\n",
      "errror\n",
      "errror\n",
      "errror\n",
      "errror\n",
      "errror\n",
      "errror\n",
      "errror\n",
      "errror\n",
      "errror\n",
      "errror\n",
      "errror\n",
      "errror\n",
      "errror\n",
      "errror\n",
      "errror\n",
      "errror\n",
      "errror\n",
      "errror\n",
      "errror\n",
      "errror\n",
      "errror\n",
      "errror\n",
      "errror\n"
     ]
    }
   ],
   "source": [
    "categories = df['Category'].unique()\n",
    "\n",
    "for category in categories:\n",
    "    filtered_df = df[df['Category'] == category]\n",
    "    categoryfolder = os.path.join(imgfolder + category)\n",
    "    for index, row in filtered_df.iterrows():\n",
    "        try:\n",
    "            image_file = os.path.join(imgfolder + row['Image Name'])\n",
    "            shutil.move(image_file, categoryfolder)\n",
    "        except:\n",
    "            print('errror')"
   ]
  },
  {
   "cell_type": "markdown",
   "metadata": {},
   "source": [
    "Upon inspection, the site images were scraped from categorized the same images under `Pique Triangles` and `Triangle Squares`. The latter folder will be deleted."
   ]
  },
  {
   "cell_type": "code",
   "execution_count": 54,
   "metadata": {},
   "outputs": [
    {
     "data": {
      "text/html": [
       "<div>\n",
       "<style scoped>\n",
       "    .dataframe tbody tr th:only-of-type {\n",
       "        vertical-align: middle;\n",
       "    }\n",
       "\n",
       "    .dataframe tbody tr th {\n",
       "        vertical-align: top;\n",
       "    }\n",
       "\n",
       "    .dataframe thead th {\n",
       "        text-align: right;\n",
       "    }\n",
       "</style>\n",
       "<table border=\"1\" class=\"dataframe\">\n",
       "  <thead>\n",
       "    <tr style=\"text-align: right;\">\n",
       "      <th></th>\n",
       "      <th>Image Name</th>\n",
       "      <th>Category</th>\n",
       "    </tr>\n",
       "  </thead>\n",
       "  <tbody>\n",
       "    <tr>\n",
       "      <th>53</th>\n",
       "      <td>piquetrirs.jpg</td>\n",
       "      <td>Triangle_Squares</td>\n",
       "    </tr>\n",
       "    <tr>\n",
       "      <th>54</th>\n",
       "      <td>piquetriws.jpg</td>\n",
       "      <td>Triangle_Squares</td>\n",
       "    </tr>\n",
       "    <tr>\n",
       "      <th>104</th>\n",
       "      <td>piquetrirs.jpg</td>\n",
       "      <td>Triangle_Squares</td>\n",
       "    </tr>\n",
       "    <tr>\n",
       "      <th>105</th>\n",
       "      <td>piquetriws.jpg</td>\n",
       "      <td>Triangle_Squares</td>\n",
       "    </tr>\n",
       "  </tbody>\n",
       "</table>\n",
       "</div>"
      ],
      "text/plain": [
       "         Image Name          Category\n",
       "53   piquetrirs.jpg  Triangle_Squares\n",
       "54   piquetriws.jpg  Triangle_Squares\n",
       "104  piquetrirs.jpg  Triangle_Squares\n",
       "105  piquetriws.jpg  Triangle_Squares"
      ]
     },
     "execution_count": 54,
     "metadata": {},
     "output_type": "execute_result"
    }
   ],
   "source": [
    "df[df['Category'] == 'Triangle_Squares']"
   ]
  },
  {
   "cell_type": "code",
   "execution_count": 55,
   "metadata": {},
   "outputs": [
    {
     "data": {
      "text/html": [
       "<div>\n",
       "<style scoped>\n",
       "    .dataframe tbody tr th:only-of-type {\n",
       "        vertical-align: middle;\n",
       "    }\n",
       "\n",
       "    .dataframe tbody tr th {\n",
       "        vertical-align: top;\n",
       "    }\n",
       "\n",
       "    .dataframe thead th {\n",
       "        text-align: right;\n",
       "    }\n",
       "</style>\n",
       "<table border=\"1\" class=\"dataframe\">\n",
       "  <thead>\n",
       "    <tr style=\"text-align: right;\">\n",
       "      <th></th>\n",
       "      <th>Image Name</th>\n",
       "      <th>Category</th>\n",
       "    </tr>\n",
       "  </thead>\n",
       "  <tbody>\n",
       "    <tr>\n",
       "      <th>38</th>\n",
       "      <td>piquetrirs.jpg</td>\n",
       "      <td>Pique_Triangles</td>\n",
       "    </tr>\n",
       "    <tr>\n",
       "      <th>39</th>\n",
       "      <td>piquetriws.jpg</td>\n",
       "      <td>Pique_Triangles</td>\n",
       "    </tr>\n",
       "    <tr>\n",
       "      <th>90</th>\n",
       "      <td>piquetrirs.jpg</td>\n",
       "      <td>Pique_Triangles</td>\n",
       "    </tr>\n",
       "    <tr>\n",
       "      <th>91</th>\n",
       "      <td>piquetriws.jpg</td>\n",
       "      <td>Pique_Triangles</td>\n",
       "    </tr>\n",
       "  </tbody>\n",
       "</table>\n",
       "</div>"
      ],
      "text/plain": [
       "        Image Name         Category\n",
       "38  piquetrirs.jpg  Pique_Triangles\n",
       "39  piquetriws.jpg  Pique_Triangles\n",
       "90  piquetrirs.jpg  Pique_Triangles\n",
       "91  piquetriws.jpg  Pique_Triangles"
      ]
     },
     "execution_count": 55,
     "metadata": {},
     "output_type": "execute_result"
    }
   ],
   "source": [
    "df[df['Category'] == 'Pique_Triangles']"
   ]
  },
  {
   "cell_type": "code",
   "execution_count": 56,
   "metadata": {},
   "outputs": [],
   "source": [
    "df = df[df['Category'] != 'Triangle_Squares']"
   ]
  },
  {
   "cell_type": "code",
   "execution_count": 57,
   "metadata": {},
   "outputs": [
    {
     "data": {
      "text/html": [
       "<div>\n",
       "<style scoped>\n",
       "    .dataframe tbody tr th:only-of-type {\n",
       "        vertical-align: middle;\n",
       "    }\n",
       "\n",
       "    .dataframe tbody tr th {\n",
       "        vertical-align: top;\n",
       "    }\n",
       "\n",
       "    .dataframe thead th {\n",
       "        text-align: right;\n",
       "    }\n",
       "</style>\n",
       "<table border=\"1\" class=\"dataframe\">\n",
       "  <thead>\n",
       "    <tr style=\"text-align: right;\">\n",
       "      <th></th>\n",
       "      <th>Image Name</th>\n",
       "      <th>Category</th>\n",
       "    </tr>\n",
       "  </thead>\n",
       "  <tbody>\n",
       "  </tbody>\n",
       "</table>\n",
       "</div>"
      ],
      "text/plain": [
       "Empty DataFrame\n",
       "Columns: [Image Name, Category]\n",
       "Index: []"
      ]
     },
     "execution_count": 57,
     "metadata": {},
     "output_type": "execute_result"
    }
   ],
   "source": [
    "df[df['Category'] == 'Triangle_Squares']"
   ]
  }
 ],
 "metadata": {
  "kernelspec": {
   "display_name": "base",
   "language": "python",
   "name": "python3"
  },
  "language_info": {
   "codemirror_mode": {
    "name": "ipython",
    "version": 3
   },
   "file_extension": ".py",
   "mimetype": "text/x-python",
   "name": "python",
   "nbconvert_exporter": "python",
   "pygments_lexer": "ipython3",
   "version": "3.10.9"
  },
  "orig_nbformat": 4
 },
 "nbformat": 4,
 "nbformat_minor": 2
}
